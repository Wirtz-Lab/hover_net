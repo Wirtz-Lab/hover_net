{
 "cells": [
  {
   "cell_type": "code",
   "execution_count": 2,
   "metadata": {
    "collapsed": true
   },
   "outputs": [
    {
     "data": {
      "text/plain": "['100',\n '101',\n '105',\n '106',\n '108',\n '109',\n '110',\n '114',\n '115',\n '116',\n '117',\n '118',\n '119',\n '12',\n '120',\n '124',\n '132',\n '133',\n '134',\n '136',\n '14',\n '140',\n '142',\n '143',\n '144',\n '146',\n '147',\n '155',\n '156',\n '157',\n '159',\n '16',\n '161',\n '162',\n '163',\n '165',\n '167',\n '168',\n '17',\n '174',\n '177',\n '178',\n '18',\n '193',\n '194',\n '195',\n '199',\n '201',\n '202',\n '203',\n '204',\n '205',\n '206',\n '207',\n '208',\n '21',\n '210',\n '211',\n '212',\n '213',\n '214',\n '215',\n '220',\n '221',\n '224',\n '226',\n '227',\n '229',\n '230',\n '231',\n '233',\n '235',\n '237',\n '238',\n '240',\n '241',\n '243',\n '244',\n '254',\n '26',\n '264',\n '27',\n '273',\n '274',\n '275',\n '276',\n '279',\n '281',\n '282',\n '283',\n '285',\n '287',\n '29',\n '297',\n '298',\n '299',\n '30',\n '303',\n '304',\n '305',\n '306',\n '308',\n '309',\n '31',\n '311',\n '313',\n '317',\n '32',\n '320',\n '321',\n '329-duplicate',\n '329',\n '33',\n '330',\n '331',\n '334',\n '335',\n '336',\n '34',\n '342',\n '343',\n '344',\n '345',\n '347',\n '348',\n '349',\n '35',\n '350',\n '354',\n '357',\n '36',\n '360',\n '361',\n '363',\n '364',\n '365',\n '366',\n '367',\n '368',\n '37',\n '373',\n '374',\n '375',\n '379',\n '38',\n '40',\n '41',\n '43',\n '44',\n '45',\n '47',\n '49',\n '51',\n '57',\n '61',\n '62',\n '64',\n '66',\n '74',\n '76',\n '8',\n '87',\n '88',\n '92',\n '94',\n '95',\n '96',\n '98']"
     },
     "execution_count": 2,
     "metadata": {},
     "output_type": "execute_result"
    }
   ],
   "source": [
    "import os\n",
    "\n",
    "src1=r'\\\\10.162.80.5\\Kyu_Sync\\Research\\Database\\Hamamatsu Nanozoomer Temporary Repository'\n",
    "src2=r'\\\\10.162.80.5\\Kyu_Sync\\Research\\Database\\Hamamatsu Nanozoomer Temporary Repository\\1um'\n",
    "ndpi = [_ for _ in os.listdir(src1) if _.endswith('ndpi')]\n",
    "ndpi = [os.path.splitext(_)[0] for _ in ndpi]"
   ]
  },
  {
   "cell_type": "code",
   "execution_count": 3,
   "outputs": [
    {
     "data": {
      "text/plain": "['100',\n '101',\n '105',\n '106',\n '108',\n '109',\n '110',\n '114',\n '115',\n '116',\n '117',\n '118',\n '119',\n '12',\n '120',\n '124',\n '132',\n '133',\n '134',\n '136',\n '14',\n '140',\n '142',\n '143',\n '144',\n '146',\n '147',\n '155',\n '156',\n '157',\n '159',\n '16',\n '161',\n '162',\n '163',\n '165',\n '168',\n '17',\n '174',\n '177',\n '178',\n '18',\n '193',\n '194',\n '195',\n '199',\n '201',\n '202',\n '203',\n '204',\n '205',\n '206',\n '207',\n '208',\n '21',\n '210',\n '211',\n '212',\n '213',\n '214',\n '215',\n '220',\n '221',\n '224',\n '226',\n '227',\n '229',\n '230',\n '231',\n '233',\n '235',\n '237',\n '238',\n '240',\n '241',\n '243',\n '244',\n '254',\n '26',\n '264',\n '27',\n '273',\n '274',\n '275',\n '276',\n '279',\n '281',\n '282',\n '283',\n '285',\n '287',\n '29',\n '297',\n '298',\n '299',\n '30',\n '303',\n '304',\n '305',\n '306',\n '308',\n '309',\n '31',\n '311',\n '313',\n '317',\n '32',\n '320',\n '321',\n '329-duplicate',\n '329',\n '33',\n '330',\n '331',\n '334',\n '335',\n '336',\n '34',\n '342',\n '343',\n '344',\n '345',\n '347',\n '348',\n '349',\n '35',\n '350',\n '354',\n '357',\n '36',\n '360',\n '361',\n '363',\n '364',\n '365',\n '366',\n '367',\n '368',\n '37',\n '373',\n '374',\n '375',\n '379',\n '38',\n '40',\n '41',\n '43',\n '44',\n '45',\n '47',\n '49',\n '51',\n '57',\n '61',\n '62',\n '64',\n '66',\n '74',\n '76',\n '8',\n '87',\n '88',\n '92',\n '94',\n '95',\n '96',\n '98']"
     },
     "execution_count": 3,
     "metadata": {},
     "output_type": "execute_result"
    }
   ],
   "source": [
    "tif = [_ for _ in os.listdir(src2) if _.endswith('tif')]\n",
    "tif = [os.path.splitext(_)[0] for _ in tif]"
   ],
   "metadata": {
    "collapsed": false,
    "pycharm": {
     "name": "#%%\n"
    }
   }
  },
  {
   "cell_type": "code",
   "execution_count": 6,
   "outputs": [
    {
     "data": {
      "text/plain": "['167']"
     },
     "execution_count": 6,
     "metadata": {},
     "output_type": "execute_result"
    }
   ],
   "source": [
    "dif = [_ for _ in ndpi if not _ in tif]\n",
    "dif"
   ],
   "metadata": {
    "collapsed": false,
    "pycharm": {
     "name": "#%%\n"
    }
   }
  }
 ],
 "metadata": {
  "kernelspec": {
   "name": "hovernet",
   "language": "python",
   "display_name": "hovernet"
  },
  "language_info": {
   "codemirror_mode": {
    "name": "ipython",
    "version": 2
   },
   "file_extension": ".py",
   "mimetype": "text/x-python",
   "name": "python",
   "nbconvert_exporter": "python",
   "pygments_lexer": "ipython2",
   "version": "2.7.6"
  }
 },
 "nbformat": 4,
 "nbformat_minor": 0
}